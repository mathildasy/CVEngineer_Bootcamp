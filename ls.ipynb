{
 "metadata": {
  "language_info": {
   "codemirror_mode": {
    "name": "ipython",
    "version": 3
   },
   "file_extension": ".py",
   "mimetype": "text/x-python",
   "name": "python",
   "nbconvert_exporter": "python",
   "pygments_lexer": "ipython3",
   "version": "3.6.13"
  },
  "orig_nbformat": 2,
  "kernelspec": {
   "name": "python3613jvsc74a57bd006d5e3b026207dbffbfe101fb5b7dcadee0f432a3ebdd52592e0b754c4a414e5",
   "display_name": "Python 3.6.13 64-bit ('erg3020': conda)"
  }
 },
 "nbformat": 4,
 "nbformat_minor": 2,
 "cells": [
  {
   "cell_type": "code",
   "execution_count": 2,
   "metadata": {},
   "outputs": [],
   "source": [
    "import pandas as pd\n",
    "import spacy \n",
    "import numpy as np"
   ]
  },
  {
   "cell_type": "code",
   "execution_count": 5,
   "metadata": {},
   "outputs": [],
   "source": [
    "senti = pd.read_csv(\"sentiment_sentence.csv\")\n",
    "character = pd.read_csv(\"character_sentence.csv\")"
   ]
  },
  {
   "cell_type": "code",
   "execution_count": 13,
   "metadata": {},
   "outputs": [
    {
     "output_type": "execute_result",
     "data": {
      "text/plain": [
       "(4, 5585)"
      ]
     },
     "metadata": {},
     "execution_count": 13
    }
   ],
   "source": [
    "senti.shape # (4*5585)\n",
    "character.shape # (14*5585)"
   ]
  },
  {
   "cell_type": "code",
   "execution_count": 18,
   "metadata": {
    "tags": []
   },
   "outputs": [
    {
     "output_type": "execute_result",
     "data": {
      "text/plain": [
       "  Unnamed: 0       0       1    2    3      4       5       6       7    8  \\\n",
       "0   compound  0.8597  0.3818  0.0  0.0 -0.296 -0.0572 -0.6486 -0.2263  0.0   \n",
       "1        neg  0.0000  0.0000  0.0  0.0  0.423  0.1200  0.7260  0.1520  0.0   \n",
       "2        neu  0.8470  0.8850  1.0  1.0  0.577  0.8800  0.2740  0.7590  1.0   \n",
       "3        pos  0.1530  0.1150  0.0  0.0  0.000  0.0000  0.0000  0.0900  0.0   \n",
       "\n",
       "   ...  5574    5575    5576   5577   5578    5579    5580    5581    5582  \\\n",
       "0  ...   0.0 -0.0258  0.7992  0.743  0.128  0.9088  0.2755 -0.7376 -0.7684   \n",
       "1  ...   0.0  0.0790  0.0290  0.000  0.068  0.0000  0.0000  0.1000  0.1010   \n",
       "2  ...   1.0  0.8430  0.8640  0.636  0.850  0.5910  0.8390  0.8650  0.8570   \n",
       "3  ...   0.0  0.0770  0.1070  0.364  0.082  0.4090  0.1610  0.0350  0.0410   \n",
       "\n",
       "     5583  \n",
       "0  0.9061  \n",
       "1  0.0000  \n",
       "2  0.7090  \n",
       "3  0.2910  \n",
       "\n",
       "[4 rows x 5585 columns]"
      ],
      "text/html": "<div>\n<style scoped>\n    .dataframe tbody tr th:only-of-type {\n        vertical-align: middle;\n    }\n\n    .dataframe tbody tr th {\n        vertical-align: top;\n    }\n\n    .dataframe thead th {\n        text-align: right;\n    }\n</style>\n<table border=\"1\" class=\"dataframe\">\n  <thead>\n    <tr style=\"text-align: right;\">\n      <th></th>\n      <th>Unnamed: 0</th>\n      <th>0</th>\n      <th>1</th>\n      <th>2</th>\n      <th>3</th>\n      <th>4</th>\n      <th>5</th>\n      <th>6</th>\n      <th>7</th>\n      <th>8</th>\n      <th>...</th>\n      <th>5574</th>\n      <th>5575</th>\n      <th>5576</th>\n      <th>5577</th>\n      <th>5578</th>\n      <th>5579</th>\n      <th>5580</th>\n      <th>5581</th>\n      <th>5582</th>\n      <th>5583</th>\n    </tr>\n  </thead>\n  <tbody>\n    <tr>\n      <th>0</th>\n      <td>compound</td>\n      <td>0.8597</td>\n      <td>0.3818</td>\n      <td>0.0</td>\n      <td>0.0</td>\n      <td>-0.296</td>\n      <td>-0.0572</td>\n      <td>-0.6486</td>\n      <td>-0.2263</td>\n      <td>0.0</td>\n      <td>...</td>\n      <td>0.0</td>\n      <td>-0.0258</td>\n      <td>0.7992</td>\n      <td>0.743</td>\n      <td>0.128</td>\n      <td>0.9088</td>\n      <td>0.2755</td>\n      <td>-0.7376</td>\n      <td>-0.7684</td>\n      <td>0.9061</td>\n    </tr>\n    <tr>\n      <th>1</th>\n      <td>neg</td>\n      <td>0.0000</td>\n      <td>0.0000</td>\n      <td>0.0</td>\n      <td>0.0</td>\n      <td>0.423</td>\n      <td>0.1200</td>\n      <td>0.7260</td>\n      <td>0.1520</td>\n      <td>0.0</td>\n      <td>...</td>\n      <td>0.0</td>\n      <td>0.0790</td>\n      <td>0.0290</td>\n      <td>0.000</td>\n      <td>0.068</td>\n      <td>0.0000</td>\n      <td>0.0000</td>\n      <td>0.1000</td>\n      <td>0.1010</td>\n      <td>0.0000</td>\n    </tr>\n    <tr>\n      <th>2</th>\n      <td>neu</td>\n      <td>0.8470</td>\n      <td>0.8850</td>\n      <td>1.0</td>\n      <td>1.0</td>\n      <td>0.577</td>\n      <td>0.8800</td>\n      <td>0.2740</td>\n      <td>0.7590</td>\n      <td>1.0</td>\n      <td>...</td>\n      <td>1.0</td>\n      <td>0.8430</td>\n      <td>0.8640</td>\n      <td>0.636</td>\n      <td>0.850</td>\n      <td>0.5910</td>\n      <td>0.8390</td>\n      <td>0.8650</td>\n      <td>0.8570</td>\n      <td>0.7090</td>\n    </tr>\n    <tr>\n      <th>3</th>\n      <td>pos</td>\n      <td>0.1530</td>\n      <td>0.1150</td>\n      <td>0.0</td>\n      <td>0.0</td>\n      <td>0.000</td>\n      <td>0.0000</td>\n      <td>0.0000</td>\n      <td>0.0900</td>\n      <td>0.0</td>\n      <td>...</td>\n      <td>0.0</td>\n      <td>0.0770</td>\n      <td>0.1070</td>\n      <td>0.364</td>\n      <td>0.082</td>\n      <td>0.4090</td>\n      <td>0.1610</td>\n      <td>0.0350</td>\n      <td>0.0410</td>\n      <td>0.2910</td>\n    </tr>\n  </tbody>\n</table>\n<p>4 rows × 5585 columns</p>\n</div>"
     },
     "metadata": {},
     "execution_count": 18
    }
   ],
   "source": [
    "senti.head()"
   ]
  },
  {
   "cell_type": "code",
   "execution_count": 38,
   "metadata": {},
   "outputs": [
    {
     "output_type": "execute_result",
     "data": {
      "text/plain": [
       "128     1\n",
       "133     1\n",
       "136     1\n",
       "137     1\n",
       "146     1\n",
       "       ..\n",
       "5565    1\n",
       "5568    1\n",
       "5575    1\n",
       "5576    1\n",
       "5583    1\n",
       "Name: 0, Length: 398, dtype: object"
      ]
     },
     "metadata": {},
     "execution_count": 38
    }
   ],
   "source": [
    "darcy = character.iloc[0,:]\n",
    "\n",
    "darcy[darcy == 1]"
   ]
  },
  {
   "cell_type": "code",
   "execution_count": 20,
   "metadata": {},
   "outputs": [
    {
     "output_type": "execute_result",
     "data": {
      "text/plain": [
       "  Unnamed: 0       0       1    2    3      4       5       6       7    8\n",
       "0   compound  0.8597  0.3818  0.0  0.0 -0.296 -0.0572 -0.6486 -0.2263  0.0\n",
       "1        neg  0.0000  0.0000  0.0  0.0  0.423  0.1200  0.7260  0.1520  0.0\n",
       "2        neu  0.8470  0.8850  1.0  1.0  0.577  0.8800  0.2740  0.7590  1.0\n",
       "3        pos  0.1530  0.1150  0.0  0.0  0.000  0.0000  0.0000  0.0900  0.0"
      ],
      "text/html": "<div>\n<style scoped>\n    .dataframe tbody tr th:only-of-type {\n        vertical-align: middle;\n    }\n\n    .dataframe tbody tr th {\n        vertical-align: top;\n    }\n\n    .dataframe thead th {\n        text-align: right;\n    }\n</style>\n<table border=\"1\" class=\"dataframe\">\n  <thead>\n    <tr style=\"text-align: right;\">\n      <th></th>\n      <th>Unnamed: 0</th>\n      <th>0</th>\n      <th>1</th>\n      <th>2</th>\n      <th>3</th>\n      <th>4</th>\n      <th>5</th>\n      <th>6</th>\n      <th>7</th>\n      <th>8</th>\n    </tr>\n  </thead>\n  <tbody>\n    <tr>\n      <th>0</th>\n      <td>compound</td>\n      <td>0.8597</td>\n      <td>0.3818</td>\n      <td>0.0</td>\n      <td>0.0</td>\n      <td>-0.296</td>\n      <td>-0.0572</td>\n      <td>-0.6486</td>\n      <td>-0.2263</td>\n      <td>0.0</td>\n    </tr>\n    <tr>\n      <th>1</th>\n      <td>neg</td>\n      <td>0.0000</td>\n      <td>0.0000</td>\n      <td>0.0</td>\n      <td>0.0</td>\n      <td>0.423</td>\n      <td>0.1200</td>\n      <td>0.7260</td>\n      <td>0.1520</td>\n      <td>0.0</td>\n    </tr>\n    <tr>\n      <th>2</th>\n      <td>neu</td>\n      <td>0.8470</td>\n      <td>0.8850</td>\n      <td>1.0</td>\n      <td>1.0</td>\n      <td>0.577</td>\n      <td>0.8800</td>\n      <td>0.2740</td>\n      <td>0.7590</td>\n      <td>1.0</td>\n    </tr>\n    <tr>\n      <th>3</th>\n      <td>pos</td>\n      <td>0.1530</td>\n      <td>0.1150</td>\n      <td>0.0</td>\n      <td>0.0</td>\n      <td>0.000</td>\n      <td>0.0000</td>\n      <td>0.0000</td>\n      <td>0.0900</td>\n      <td>0.0</td>\n    </tr>\n  </tbody>\n</table>\n</div>"
     },
     "metadata": {},
     "execution_count": 20
    }
   ],
   "source": []
  }
 ]
}