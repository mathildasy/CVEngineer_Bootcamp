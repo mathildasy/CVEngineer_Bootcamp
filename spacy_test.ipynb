{
 "metadata": {
  "language_info": {
   "codemirror_mode": {
    "name": "ipython",
    "version": 3
   },
   "file_extension": ".py",
   "mimetype": "text/x-python",
   "name": "python",
   "nbconvert_exporter": "python",
   "pygments_lexer": "ipython3",
   "version": "3.6.13"
  },
  "orig_nbformat": 2,
  "kernelspec": {
   "name": "python3613jvsc74a57bd006d5e3b026207dbffbfe101fb5b7dcadee0f432a3ebdd52592e0b754c4a414e5",
   "display_name": "Python 3.6.13 64-bit ('erg3020': conda)"
  }
 },
 "nbformat": 4,
 "nbformat_minor": 2,
 "cells": [
  {
   "cell_type": "code",
   "execution_count": 1,
   "metadata": {},
   "outputs": [],
   "source": [
    "import numpy as np\n",
    "import spacy"
   ]
  },
  {
   "cell_type": "code",
   "execution_count": 3,
   "metadata": {},
   "outputs": [
    {
     "output_type": "stream",
     "name": "stdout",
     "text": [
      "\n \n SPACE _SP ROOT \n False False\nHow how ADV WRB advmod Xxx True True\nare be AUX VBP ROOT xxx True True\nyou you PRON PRP nsubj xxx True True\n? ? PUNCT . punct ? False False\nI I PRON PRP nsubj X True True\nam be AUX VBP ccomp xx True True\nfine fine ADJ JJ acomp xxxx True False\n, , PUNCT , punct , False False\nthank thank VERB VBP ROOT xxxx True False\nyou you PRON PRP dobj xxx True True\n. . PUNCT . punct . False False\nAnd and CCONJ CC cc Xxx True True\nyou you PRON PRP ROOT xxx True True\n? ? PUNCT . punct ? False False\n\n \n SPACE _SP punct \n False False\n"
     ]
    }
   ],
   "source": [
    "nlp = spacy.load(\"en_core_web_sm\")\n",
    "doc = nlp('''\n",
    "How are you? I am fine, thank you. And you?\n",
    "''')\n",
    "\n",
    "for token in doc:\n",
    "    print(token.text, token.lemma_, token.pos_, token.tag_, token.dep_,\n",
    "            token.shape_, token.is_alpha, token.is_stop)\n"
   ]
  },
  {
   "cell_type": "code",
   "execution_count": 9,
   "metadata": {},
   "outputs": [],
   "source": [
    "with open('pride_and_prejudice.txt',encoding='utf-8', mode = 'r') as f:\n",
    "    full_txt = f.read().strip('\\n').replace(\"\\''\",\"'\")\n",
    "    # clean the unnecessary txt\n",
    "    full_txt = full_txt.replace('_','').replace('make by 拉米网（www.lami.fun）','') "
   ]
  },
  {
   "cell_type": "code",
   "execution_count": 10,
   "metadata": {},
   "outputs": [
    {
     "output_type": "execute_result",
     "data": {
      "text/plain": [
       "'It is a truth universally acknowledged, that a single man in possession of a good fortune, must be in want of a wife.However little known the feelings or views of such a man may be on his first entering a neighbourhood, this truth is so well fixed in the minds of the surrounding families, that he is considered the rightful property of some one or other of their daughters.\"My dear Mr. Bennet,\" said his lady to him one day, \"have you heard that Netherfield Park is let at last?\"Mr. Bennet replied that he had not.\"But it is,\" returned she; \"for Mrs. Long has just been here, and she told me all about it.\"Mr. Bennet made no answer.\"Do you not want to know who has taken it?\" cried his wife impatiently.\"You want to tell me, and I have no objection to hearing it.\"This was invitation enough.\"Why, my dear, you must know, Mrs. Long says that Netherfield is taken by a young man of large fortune from the north of England; that he came down on Monday in a chaise and four to see the place, and was so much delighted with it, that he agreed with Mr. Morris immediately; that he is to take possession before Michaelmas, and some of his servants are to be in the house by the end of next week.\"\"What is his name?\"\"Bingley.\"\"Is he married or single?\"\"Oh! Single, my dear, to be sure! A single man of large fortune; four or five thousand a year. What a fine thing for our girls!\"\"How so? How can it affect them?\"\"My dear Mr. Bennet,\" replied his wife, \"how can you be so tiresome! You must know that I am thinking of his marrying one of them.\"\"Is that his design in settling here?\"\"Design! Nonsense, how can you talk so! But it is very likely that he may fall in love with one of them, and therefore you must visit him as soon as he comes.\"\"I see no occasion for that. You and the girls may go, or you may send them by themselves, which perhaps will be still better, for as you are as handsome as any of them, Mr. Bingley may like you the best of the party.\"\"My dear, you flatter me. I certainly have had my share of beauty, but I do not pretend to be anything extraordinary now. When a woman has five grown-up daughters, she ought to give over thinking of her own beauty.\"\"In such cases, a woman has not often much beauty to think of.\"\"But, my dear, you must indeed go and see Mr. Bingley when he comes into the neighbourhood.\"\"It is more than I engage for, I assure you.\"\"But consider your daughters. Only think what an establishment it would be for one of them. Sir William and Lady Lucas are determined to go, merely on that account, for in general, you know, they visit no newcomers. Indeed you must go, for it will be impossible for us to visit him if you do not.\"\"You are over-scrupulous, surely. I dare say Mr. Bingley will be very glad to see you; and I will send a few lines by you to assure him of my hearty consent to his marrying whichever he chooses of the girls; though I must throw in a good word for my little Lizzy.\"\"I desire you will do no such thing. Lizzy is not a bit better than the others; and I am sure she is not half so handsome as Jane, nor half so good-humoured as Lydia. But you are always giving her the preference.\"\"They have none of them much to recommend them,\" replied he; \"they are all silly and ignorant like other girls; but Lizzy has something more of quickness than her sisters.\"\"Mr. Bennet, how can you abuse your own children in such a way? You take delight in vexing me. You have no compassion for my poor nerves.\"\"You mistake me, my dear. I have a high respect for your nerves. They are my old friends. I have heard you mention them with consideration these last twenty years at least.\"\"Ah, you do not know what I suffer.\"\"But I hope you will get over it, and live to see many young men of four thousand a year come into the neighbourhood.\"\"It will be no use to us, if twenty such should come, since you will not visit them.\"\"Depend upon it, my dear, that when there are twenty, I will visit them all.\"Mr. Bennet was so odd a mixture of quick parts, sarcastic humour, reserve, and caprice, that the experience of three-and-twenty years had been insufficient to make his wife understand his character. Her mind was less difficult to develop. She was a woman of mean understanding, little information, and uncertain temper. When she was discontented, she fancied herself nervous. The business of her life was to get her daughters married; its solace was visiting and news.'"
      ]
     },
     "metadata": {},
     "execution_count": 10
    }
   ],
   "source": [
    "# chapter-wise\n",
    "chapter_txt = full_txt.split('Chapter ')[1:] #len(chapter_txt)=61\n",
    "cleaned_chapter = []\n",
    "for chapter in chapter_txt:\n",
    "    cleaned_chapter.append(chapter[1:].replace('\\n',''))\n",
    "#len(cleaned_chapter)\n",
    "cleaned_chapter[0]"
   ]
  },
  {
   "cell_type": "code",
   "execution_count": 13,
   "metadata": {},
   "outputs": [
    {
     "output_type": "stream",
     "name": "stdout",
     "text": [
      "truth NOUN False\nuniversally ADV False\nacknowledged VERB False\nsingle ADJ False\n"
     ]
    }
   ],
   "source": [
    "doc = nlp(cleaned_chapter[0])\n",
    "for token in doc[0:10]:\n",
    "    if not token.is_stop and (not token.pos_ == \"PUNCT\") and (not token.pos_ == \"SPACE\"):\n",
    "        print(token.text, token.pos_, token.is_stop)\n",
    "\n"
   ]
  },
  {
   "cell_type": "code",
   "execution_count": 30,
   "metadata": {},
   "outputs": [
    {
     "output_type": "stream",
     "name": "stdout",
     "text": [
      "It     Xx True True\nis     xx True True\na     x True True\ntruth     xxxx True False\nuniversally     xxxx True False\nacknowledged     xxxx True False\n,     , False False\nthat     xxxx True True\na     x True True\nsingle     xxxx True False\nman     xxx True False\nin     xx True True\npossession     xxxx True False\nof     xx True True\na     x True True\ngood     xxxx True False\nfortune     xxxx True False\n,     , False False\nmust     xxxx True True\nbe     xx True True\nin     xx True True\nwant     xxxx True False\nof     xx True True\na     x True True\nwife     xxxx True False\n.     . False False\n"
     ]
    }
   ],
   "source": [
    "from spacy.lang.en import English\n",
    "\n",
    "nlp = English()  # just the language with no pipeline\n",
    "nlp.add_pipe(\"sentencizer\")\n",
    "rule_div = nlp(cleaned_chapter[0])\n",
    "# for sent in rule_div.sents:\n",
    "#     print(\"signal \" + sent.text)\n",
    "\n",
    "sent_gen = rule_div.sents\n",
    "temp = next(sent_gen)\n",
    "for token in temp:\n",
    "    print(token.text, token.lemma_, token.pos_, token.tag_, token.dep_,\n",
    "            token.shape_, token.is_alpha, token.is_stop)\n",
    "\n"
   ]
  },
  {
   "cell_type": "code",
   "execution_count": 22,
   "metadata": {},
   "outputs": [
    {
     "output_type": "stream",
     "name": "stdout",
     "text": [
      "It is a truth universally acknowledged, that a single man in possession of a good fortune, must be in want of a wife.\nHowever little known the feelings or views of such a man may be on his first entering a neighbourhood, this truth is so well fixed in the minds of the surrounding families, that he is considered the rightful property of some one or other of their daughters.\n\"My dear Mr. Bennet,\" said his lady to him one day, \"have you heard that Netherfield Park is let at last?\"Mr.\nBennet replied that he had not.\n\"But it is,\" returned she; \"for Mrs. Long has just been here, and she told me all about it.\n\"Mr.\nBennet made no answer.\n\"Do you not want to know who has taken it?\"\ncried his wife impatiently.\n\"You want to tell me, and I have no objection to hearing it.\n\"This was invitation enough.\n\"Why, my dear, you must know, Mrs. Long says that Netherfield is taken by a young man of large fortune from the north of England; that he came down on Monday in a chaise and four to see the place, and was so much delighted with it, that he agreed with Mr. Morris immediately; that he is to take possession before Michaelmas, and some of his servants are to be in the house by the end of next week.\n\"\"What is his name?\"\"Bingley.\n\"\"Is he married or single?\"\"Oh!\nSingle, my dear, to be sure!\nA single man of large fortune; four or five thousand a year.\nWhat a fine thing for our girls!\"\"How so?\nHow can it affect them?\"\"My dear Mr. Bennet,\" replied his wife, \"how can you be so tiresome!\nYou must know that I am thinking of his marrying one of them.\n\"\"Is that his design in settling here?\"\"Design!\nNonsense, how can you talk so!\nBut it is very likely that he may fall in love with one of them, and therefore you must visit him as soon as he comes.\n\"\"I see no occasion for that.\nYou and the girls may go, or you may send them by themselves, which perhaps will be still better, for as you are as handsome as any of them, Mr. Bingley may like you the best of the party.\n\"\"My dear, you flatter me.\nI certainly have had my share of beauty, but I do not pretend to be anything extraordinary now.\nWhen a woman has five grown-up daughters, she ought to give over thinking of her own beauty.\n\"\"In such cases, a woman has not often much beauty to think of.\n\"\"But, my dear, you must indeed go and see Mr. Bingley when he comes into the neighbourhood.\n\"\"It is more than I engage for, I assure you.\n\"\"But consider your daughters.\nOnly think what an establishment it would be for one of them.\nSir William and Lady Lucas are determined to go, merely on that account, for in general, you know, they visit no newcomers.\nIndeed you must go, for it will be impossible for us to visit him if you do not.\n\"\"You are over-scrupulous, surely.\nI dare say Mr. Bingley will be very glad to see you; and I will send a few lines by you to assure him of my hearty consent to his marrying whichever he chooses of the girls; though I must throw in a good word for my little Lizzy.\n\"\"I desire you will do no such thing.\nLizzy is not a bit better than the others; and I am sure she is not half so handsome as Jane, nor half so good-humoured as Lydia.\nBut you are always giving her the preference.\n\"\"They have none of them much to recommend them,\" replied he; \"they are all silly and ignorant like other girls; but Lizzy has something more of quickness than her sisters.\n\"\"Mr.\nBennet, how can you abuse your own children in such a way?\nYou take delight in vexing me.\nYou have no compassion for my poor nerves.\n\"\"You mistake me, my dear.\nI have a high respect for your nerves.\nThey are my old friends.\nI have heard you mention them with consideration these last twenty years at least.\n\"\"Ah, you do not know what I suffer.\n\"\"But I hope you will get over it, and live to see many young men of four thousand a year come into the neighbourhood.\n\"\"It will be no use to us, if twenty such should come, since you will not visit them.\n\"\"Depend upon it, my dear, that when there are twenty, I will visit them all.\n\"Mr.\nBennet was so odd a mixture of quick parts, sarcastic humour, reserve, and caprice, that the experience of three-and-twenty years had been insufficient to make his wife understand his character.\nHer mind was less difficult to develop.\nShe was a woman of mean understanding, little information, and uncertain temper.\nWhen she was discontented, she fancied herself nervous.\nThe business of her life was to get her daughters married; its solace was visiting and news.\n"
     ]
    }
   ],
   "source": [
    "\n",
    "assert doc.has_annotation(\"SENT_START\")\n",
    "for sent in doc.sents:\n",
    "    print(sent.text)"
   ]
  }
 ]
}