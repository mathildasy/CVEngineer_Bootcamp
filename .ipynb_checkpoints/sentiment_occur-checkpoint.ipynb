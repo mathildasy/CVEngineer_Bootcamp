{
 "cells": [
  {
   "cell_type": "code",
   "execution_count": 50,
   "metadata": {},
   "outputs": [
    {
     "name": "stderr",
     "output_type": "stream",
     "text": [
      "[nltk_data] Downloading package punkt to /Users/mathilda/nltk_data...\n",
      "[nltk_data]   Package punkt is already up-to-date!\n"
     ]
    }
   ],
   "source": [
    "# import required libraries\n",
    "#!conda install nltk\n",
    "import numpy as np\n",
    "import pandas as pd\n",
    "import nltk\n",
    "import re\n",
    "import scipy.linalg as la\n",
    "import matplotlib.pyplot as plt\n",
    "%matplotlib inline\n",
    "\n",
    "#import ssl\n",
    "#ssl._create_default_https_context = ssl._create_unverified_context\n",
    "nltk.download('punkt')\n",
    "\n",
    "#!pip3 install vaderSentiment\n",
    "from vaderSentiment.vaderSentiment import SentimentIntensityAnalyzer\n",
    "from tqdm import tqdm_notebook as tqdm"
   ]
  },
  {
   "cell_type": "code",
   "execution_count": 51,
   "metadata": {},
   "outputs": [],
   "source": [
    "with open('pride_and_prejudice.txt','r') as f:\n",
    "#with open('Pride and Prejudice.txt','r') as f:\n",
    "    full_txt = f.read().strip('\\n').replace(\"\\''\",\"'\")\n",
    "    # clean the unnecessary txt\n",
    "    full_txt = full_txt.replace('_','').replace('make by 拉米网（www.lami.fun）','') "
   ]
  },
  {
   "cell_type": "code",
   "execution_count": 52,
   "metadata": {},
   "outputs": [
    {
     "data": {
      "text/plain": [
       "61"
      ]
     },
     "execution_count": 52,
     "metadata": {},
     "output_type": "execute_result"
    }
   ],
   "source": [
    "# chapter-wise\n",
    "chapter_txt = full_txt.split('Chapter ')[1:] #len(chapter_txt)=61\n",
    "cleaned_chapter = []\n",
    "for chapter in chapter_txt:\n",
    "    cleaned_chapter.append(chapter[1:].replace('\\n',''))\n",
    "len(cleaned_chapter)"
   ]
  },
  {
   "cell_type": "code",
   "execution_count": 53,
   "metadata": {},
   "outputs": [
    {
     "data": {
      "text/plain": [
       "5584"
      ]
     },
     "execution_count": 53,
     "metadata": {},
     "output_type": "execute_result"
    }
   ],
   "source": [
    "# sentence-wise\n",
    "cleaned_sentence = []\n",
    "from nltk.tokenize import sent_tokenize\n",
    "cleaned_sentence = [sent_tokenize(chapter) for chapter in cleaned_chapter]\n",
    "cleaned_sentence = [x for y in cleaned_sentence for x in y]\n",
    "len(cleaned_sentence)"
   ]
  },
  {
   "cell_type": "code",
   "execution_count": 59,
   "metadata": {},
   "outputs": [],
   "source": [
    "def find_character_sentence(name, nick_name = None):\n",
    "    if nick_name != None:\n",
    "        sentence = [x for x in cleaned_sentence if (x.find(name)!=-1) or (x.find(nick_name)!=-1)]\n",
    "        return sentence\n",
    "    else:\n",
    "        sentence = [x for x in cleaned_sentence if x.find(name)!=-1]\n",
    "        return sentence"
   ]
  },
  {
   "cell_type": "code",
   "execution_count": 60,
   "metadata": {},
   "outputs": [
    {
     "data": {
      "text/plain": [
       "['\"Is Miss Darcy much grown since the spring?\"',\n",
       " '\"How delighted Miss Darcy will be to receive such a letter!',\n",
       " '\"\"What sort of girl is Miss Darcy?',\n",
       " 'I really do not think Georgiana Darcy has her equal for beauty, elegance, and accomplishments; and the affection she inspires in Louisa and myself is heightened into something still more interesting, from the hope we dare entertain of her being hereafter our sister.',\n",
       " 'Miss Bingley sees that her brother is in love with you, and wants him to marry Miss Darcy.',\n",
       " 'But the case is this: We are not rich enough or grand enough for them; and she is the more anxious to get Miss Darcy for her brother, from the notion that when there has been one intermarriage, she may have less trouble in achieving a second; in which there is certainly some ingenuity, and I dare say it would succeed, if Miss de Bourgh were out of the way.',\n",
       " 'But, my dearest Jane, you cannot seriously imagine that because Miss Bingley tells you her brother greatly admires Miss Darcy, he is in the smallest degree less sensible of your merit than when he took leave of you on Tuesday, or that it will be in her power to persuade him that, instead of being in love with you, he is very much in love with her friend.',\n",
       " \"The united efforts of his two unfeeling sisters and of his overpowering friend, assisted by the attractions of Miss Darcy and the amusements of London might be too much, she feared, for the strength of his attachment.As for Jane, her anxiety under this suspense was, of course, more painful than Elizabeth's, but whatever she felt she was desirous of concealing, and between herself and Elizabeth, therefore, the subject was never alluded to.\",\n",
       " \"Miss Darcy's praise occupied the chief of it.\",\n",
       " \"To Caroline's assertion of her brother's being partial to Miss Darcy she paid no credit.\",\n",
       " '\"\"Beyond a doubt, they do wish him to choose Miss Darcy,\" replied Jane; \"but this may be from better feelings than you are supposing.',\n",
       " 'I found that Miss Darcy was expected to dinner.',\n",
       " 'He knows of my being in town, I am certain, from something she said herself; and yet it would seem, by her manner of talking, as if she wanted to persuade herself that he is really partial to Miss Darcy.',\n",
       " 'How does Georgiana get on, Darcy?\"Mr.',\n",
       " 'I am joined with him in the guardianship of Miss Darcy.',\n",
       " '\"As she spoke she observed him looking at her earnestly; and the manner in which he immediately asked her why she supposed Miss Darcy likely to give them any uneasiness, convinced her that she had somehow or other got pretty near the truth.',\n",
       " 'About a year ago, she was taken from school, and an establishment formed for her in London; and last summer she went with the lady who presided over it, to Ramsgate; and thither also went Mr. Wickham, undoubtedly by design; for there proved to have been a prior acquaintance between him and Mrs. Younge, in whose character we were most unhappily deceived; and by her connivance and aid, he so far recommended himself to Georgiana, whose affectionate heart retained a strong impression of his kindness to her as a child, that she was persuaded to believe herself in love, and to consent to an elopement.',\n",
       " 'I joined them unexpectedly a day or two before the intended elopement, and then Georgiana, unable to support the idea of grieving and offending a brother whom she almost looked up to as a father, acknowledged the whole to me.',\n",
       " \"the story which followed, of his designs on Miss Darcy, received some confirmation from what had passed between Colonel Fitzwilliam and herself only the morning before; and at last she was referred for the truth of every particular to Colonel Fitzwilliam himself--from whom she had previously received the information of his near concern in all his cousin's affairs, and whose character she had no reason to question.\",\n",
       " 'When my niece Georgiana went to Ramsgate last summer, I made a point of her having two men-servants go with her.',\n",
       " 'Miss Darcy, the daughter of Mr. Darcy, of Pemberley, and Lady Anne, could not have appeared with propriety in a different manner.',\n",
       " 'Reynolds then directed their attention to one of Miss Darcy, drawn when she was only eight years old.',\n",
       " '\"And is Miss Darcy as handsome as her brother?\"',\n",
       " '\"\"Not so much as I could wish, sir; but I dare say he may spend half his time here; and Miss Darcy is always down for the summer months.',\n",
       " '\"On reaching the spacious lobby above they were shown into a very pretty sitting-room, lately fitted up with greater elegance and lightness than the apartments below; and were informed that it was but just done to give pleasure to Miss Darcy, who had taken a liking to the room when last at Pemberley.',\n",
       " \"Reynolds anticipated Miss Darcy's delight, when she should enter the room.\",\n",
       " \"In the former were many good paintings; but Elizabeth knew nothing of the art; and from such as had been already visible below, she had willingly turned to look at some drawings of Miss Darcy's, in crayons, whose subjects were usually more interesting, and also more intelligible.In the gallery there were many family portraits, but they could have little to fix the attention of a stranger.\",\n",
       " 'She immediately felt that whatever desire Miss Darcy might have of being acquainted with her must be the work of her brother, and, without looking farther, it was satisfactory; it was gratifying to know that his resentment had not made him think really ill of her.They now walked on in silence, each of them deep in thought.',\n",
       " 'She was quite amazed at her own discomposure; but amongst other causes of disquiet, she dreaded lest the partiality of the brother should have said too much in her favour; and, more than commonly anxious to please, she naturally suspected that every power of pleasing would fail her.She retreated from the window, fearful of being seen; and as she walked up and down the room, endeavouring to compose herself, saw such looks of inquiring surprise in her uncle and aunt as made everything worse.Miss Darcy and her brother appeared, and this formidable introduction took place.',\n",
       " 'Since her being at Lambton, she had heard that Miss Darcy was exceedingly proud; but the observation of a very few minutes convinced her that she was only exceedingly shy.',\n",
       " 'She found it difficult to obtain even a word from her beyond a monosyllable.Miss Darcy was tall, and on a larger scale than Elizabeth; and, though little more than sixteen, her figure was formed, and her appearance womanly and graceful.',\n",
       " 'Bingley was ready, Georgiana was eager, and Darcy determined, to be pleased.In seeing Bingley, her thoughts naturally flew to her sister; and, oh!',\n",
       " 'But, though this might be imaginary, she could not be deceived as to his behaviour to Miss Darcy, who had been set up as a rival to Jane.',\n",
       " 'Miss Darcy, though with a diffidence which marked her little in the habit of giving invitations, readily obeyed.',\n",
       " \"She respected, she esteemed, she was grateful to him, she felt a real interest in his welfare; and she only wanted to know how far she wished that welfare to depend upon herself, and how far it would be for the happiness of both that she should employ the power, which her fancy told her she still possessed, of bringing on her the renewal of his addresses.It had been settled in the evening between the aunt and the niece, that such a striking civility as Miss Darcy's in coming to see them on the very day of her arrival at Pemberley, for she had reached it only to a late breakfast, ought to be imitated, though it could not be equalled, by some exertion of politeness on their side; and, consequently, that it would be highly expedient to wait on her at Pemberley the following morning.\",\n",
       " 'Its windows opening to the ground, admitted a most refreshing view of the high woody hills behind the house, and of the beautiful oaks and Spanish chestnuts which were scattered over the intermediate lawn.In this house they were received by Miss Darcy, who was sitting there with Mrs. Hurst and Miss Bingley, and the lady with whom she lived in London.',\n",
       " \"Georgiana's reception of them was very civil, but attended with all the embarrassment which, though proceeding from shyness and the fear of doing wrong, would easily give to those who felt themselves inferior the belief of her being proud and reserved.\",\n",
       " 'Miss Darcy looked as if she wished for courage enough to join in it; and sometimes did venture a short sentence when there was least danger of its being heard.Elizabeth soon saw that she was herself closely watched by Miss Bingley, and that she could not speak a word, especially to Miss Darcy, without calling her attention.',\n",
       " 'She answered with equal indifference and brevity, and the other said no more.The next variation which their visit afforded was produced by the entrance of servants with cold meat, cake, and a variety of all the finest fruits in season; but this did not take place till after many a significant look and smile from Mrs. Annesley to Miss Darcy had been given, to remind her of her post.',\n",
       " 'There was now employment for the whole party--for though they could not all talk, they could all eat; and the beautiful pyramids of grapes, nectarines, and peaches soon collected them round the table.While thus engaged, Elizabeth had a fair opportunity of deciding whether she most feared or wished for the appearance of Mr. Darcy, by the feelings which prevailed on his entering the room; and then, though but a moment before she had believed her wishes to predominate, she began to regret that he came.He had been some time with Mr. Gardiner, who, with two or three other gentlemen from the house, was engaged by the river, and had left him only on learning that the ladies of the family intended a visit to Georgiana that morning.',\n",
       " \"Miss Darcy, on her brother's entrance, exerted herself much more to talk, and Elizabeth saw that he was anxious for his sister and herself to get acquainted, and forwarded as much as possible, every attempt at conversation on either side.\",\n",
       " \"Not a syllable had ever reached her of Miss Darcy's meditated elopement.\",\n",
       " \"He had certainly formed such a plan, and without meaning that it should affect his endeavour to separate him from Miss Bennet, it is probable that it might add something to his lively concern for the welfare of his friend.Elizabeth's collected behaviour, however, soon quieted his emotion; and as Miss Bingley, vexed and disappointed, dared not approach nearer to Wickham, Georgiana also recovered in time, though not enough to be able to speak any more.\",\n",
       " 'But Georgiana would not join her.',\n",
       " 'And he had spoken in such terms of Elizabeth as to leave Georgiana without the power of finding her otherwise than lovely and amiable.',\n",
       " 'Be so kind as to apologise for us to Miss Darcy.',\n",
       " 'From what he said of Miss Darcy I was thoroughly prepared to see a proud, reserved, disagreeable girl.',\n",
       " '\"There is a lady, it seems, a Mrs. Younge, who was some time ago governess to Miss Darcy, and was dismissed from her charge on some cause of disapprobation, though he did not say what.',\n",
       " '\"He then told her of Georgiana\\'s delight in her acquaintance, and of her disappointment at its sudden interruption; which naturally leading to the cause of that interruption, she soon learnt that his resolution of following her from Derbyshire in quest of her sister had been formed before he quitted the inn, and that his gravity and thoughtfulness there had arisen from no other struggles than what such a purpose must comprehend.She expressed her gratitude again, but it was too painful a subject to each, to be dwelt on farther.After walking several miles in a leisurely manner, and too busy to know anything about it, they found at last, on examining their watches, that it was time to be at home.',\n",
       " \"Jane was not deceived, but she was affected; and though feeling no reliance on her, could not help writing her a much kinder answer than she knew was deserved.The joy which Miss Darcy expressed on receiving similar information, was as sincere as her brother's in sending it.\",\n",
       " \"Lydia was occasionally a visitor there, when her husband was gone to enjoy himself in London or Bath; and with the Bingleys they both of them frequently staid so long, that even Bingley's good humour was overcome, and he proceeded so far as to talk of giving them a hint to be gone.Miss Bingley was very deeply mortified by Darcy's marriage; but as she thought it advisable to retain the right of visiting at Pemberley, she dropt all her resentment; was fonder than ever of Georgiana, almost as attentive to Darcy as heretofore, and paid off every arrear of civility to Elizabeth.Pemberley was now Georgiana's home; and the attachment of the sisters was exactly what Darcy had hoped to see.\",\n",
       " 'Georgiana had the highest opinion in the world of Elizabeth; though at first she often listened with an astonishment bordering on alarm at her lively, sportive, manner of talking to her brother.']"
      ]
     },
     "execution_count": 60,
     "metadata": {},
     "output_type": "execute_result"
    }
   ],
   "source": [
    "find_character_sentence('Georgiana', 'Miss Darcy')"
   ]
  },
  {
   "cell_type": "code",
   "execution_count": 55,
   "metadata": {},
   "outputs": [],
   "source": [
    "CHARACTER_LIST = [\n",
    "    'Darcy', 'Bingley','Elizabeth','Caroline','Lydia','Catherine','Georgiana','Collins','Charlotte','Wickham','Miss de Bourgh','Colonel','Mr. Bennet','Mrs. Bennet','Jane'\n",
    "]\n",
    "\n",
    "NICKNAME_LIST = [\n",
    "    'Lizzy','Kitty','Miss Lucas','Miss Bingley','Miss Darcy'\n",
    "]\n",
    "\n",
    "MATCH = [(2,0),(3,1),(8,2),(3,3),(6,4)]\n",
    "\n",
    "\n",
    "\n",
    "num_people = len(CHARACTER_LIST)"
   ]
  },
  {
   "cell_type": "code",
   "execution_count": 18,
   "metadata": {},
   "outputs": [],
   "source": [
    "def name_plus_nick(list_1,list_2):\n",
    "    co_list = []\n",
    "    len_1 = len(list_1)\n",
    "    for i in range(len_1):\n",
    "        if list_1[i]+list_2[i] == 0:\n",
    "            co_list.append(0)\n",
    "        else:\n",
    "            co_list.append(1)\n",
    "    return co_list"
   ]
  },
  {
   "cell_type": "code",
   "execution_count": 19,
   "metadata": {},
   "outputs": [],
   "source": [
    "def find_interaction(sections):\n",
    "    Characters = {}\n",
    "    occurrence = []\n",
    "    occurrence_2 = []\n",
    "    for person in CHARACTER_LIST:\n",
    "        vector = []\n",
    "        for section in sections:\n",
    "            if person in section:\n",
    "                vector.append(1)\n",
    "            else:\n",
    "                vector.append(0)\n",
    "        occurrence.append(np.array(vector))\n",
    "        Characters[person] = np.array(vector)\n",
    "    \n",
    "    for person in CHARACTER_LIST:\n",
    "        vector = []\n",
    "        for section in sections:\n",
    "            if person in section:\n",
    "                vector.append(1)\n",
    "            else:\n",
    "                vector.append(0)\n",
    "        occurrence_2.append(np.array(vector))\n",
    "    \n",
    "    for match in MATCH:\n",
    "        name = match[0]\n",
    "        nick = match[1]\n",
    "        occur_new = name_plus_nick(occurrence[name],occurrence_2[nick])\n",
    "        occurrence[name] = occur_new\n",
    "        person = CHARACTER_LIST[name]\n",
    "        Characters[person] = occur_new\n",
    "\n",
    "    occurrence_matrix = pd.DataFrame(occurrence) # num of people * num of sections 15*61\n",
    "    co_occur = pd.DataFrame(np.dot(occurrence_matrix,occurrence_matrix.T))\n",
    "    co_occur = co_occur / np.linalg.norm(co_occur, ord = 1, axis = 0)\n",
    "    return co_occur, occurrence_matrix, Characters"
   ]
  },
  {
   "cell_type": "code",
   "execution_count": 20,
   "metadata": {},
   "outputs": [],
   "source": [
    "def text_rank(section_name, section):\n",
    "    co_occur, occurrence, Characters = find_interaction(section)\n",
    "    #print(co_occur)\n",
    "    P = co_occur\n",
    "    alpha = 0.85\n",
    "    P = alpha* co_occur + (1-alpha)*np.ones((num_people,num_people))/num_people\n",
    "    \n",
    "    # interation PageRank\n",
    "    rank_inter = np.ones((num_people, 1))/num_people\n",
    "    for i in range(100000):\n",
    "        rank_inter = np.dot(P,rank_inter)\n",
    "    rank_inter = rank_inter.reshape(-1,)\n",
    "    \n",
    "    text_rank = rank_inter[np.argsort(rank_inter)[::-1]].tolist()\n",
    "    text_chara = [CHARACTER_LIST[i] for i in np.argsort(rank_inter)[::-1].tolist()]\n",
    "    Characters_sort = sorted(Characters.items(), key=lambda x: sum(x[1]), reverse = True)\n",
    "    occur_rank = [sum(character[1]) for character in Characters_sort]\n",
    "    occur_chara = [character[0] for character in Characters_sort]\n",
    "  \n",
    "    return occurrence"
   ]
  },
  {
   "cell_type": "code",
   "execution_count": 21,
   "metadata": {},
   "outputs": [],
   "source": [
    "occur_sentence = text_rank('sentences', cleaned_sentence)"
   ]
  },
  {
   "cell_type": "code",
   "execution_count": 26,
   "metadata": {},
   "outputs": [
    {
     "data": {
      "text/plain": [
       "1641"
      ]
     },
     "execution_count": 26,
     "metadata": {},
     "output_type": "execute_result"
    }
   ],
   "source": [
    "occur_sentence.shape[1]"
   ]
  },
  {
   "cell_type": "code",
   "execution_count": 22,
   "metadata": {},
   "outputs": [],
   "source": [
    "occur_sentence.index = CHARACTER_LIST\n",
    "occur_sentence.to_csv('./character_sentence.csv') # character * sentences"
   ]
  },
  {
   "cell_type": "code",
   "execution_count": 23,
   "metadata": {},
   "outputs": [
    {
     "name": "stderr",
     "output_type": "stream",
     "text": [
      "<ipython-input-23-09d64754fde9>:4: TqdmDeprecationWarning: This function will be removed in tqdm==5.0.0\n",
      "Please use `tqdm.notebook.tqdm` instead of `tqdm.tqdm_notebook`\n",
      "  for chapter in tqdm(cleaned_chapter):\n"
     ]
    },
    {
     "data": {
      "application/vnd.jupyter.widget-view+json": {
       "model_id": "2416b4cee37e4726930cc2e343e0c778",
       "version_major": 2,
       "version_minor": 0
      },
      "text/plain": [
       "  0%|          | 0/61 [00:00<?, ?it/s]"
      ]
     },
     "metadata": {},
     "output_type": "display_data"
    }
   ],
   "source": [
    "analyzer = SentimentIntensityAnalyzer()\n",
    "chapter_ends = [0]\n",
    "sentiments = {'compound': [], 'neg': [], 'neu': [], 'pos': []}\n",
    "for chapter in tqdm(cleaned_chapter):\n",
    "    sentence_list = nltk.tokenize.sent_tokenize(chapter)\n",
    "    chapter_ends.append(chapter_ends[-1]+len(sentence_list))\n",
    "    \n",
    "    for sentence in sentence_list:\n",
    "        vs = analyzer.polarity_scores(sentence)\n",
    "        sentiments['compound'].append(vs['compound'])\n",
    "        sentiments['neg'].append(vs['neg'])\n",
    "        sentiments['neu'].append(vs['neu'])\n",
    "        sentiments['pos'].append(vs['pos'])\n",
    "pd.DataFrame(chapter_ends).to_csv('./chapter_ends.csv')"
   ]
  },
  {
   "cell_type": "code",
   "execution_count": 24,
   "metadata": {},
   "outputs": [],
   "source": [
    "sentiment_matrix = pd.DataFrame(sentiments).T \n",
    "sentiment_matrix.to_csv('./sentiment_sentence.csv') # sentiment * sentences"
   ]
  },
  {
   "cell_type": "code",
   "execution_count": null,
   "metadata": {},
   "outputs": [],
   "source": []
  },
  {
   "cell_type": "code",
   "execution_count": null,
   "metadata": {},
   "outputs": [],
   "source": []
  }
 ],
 "metadata": {
  "kernelspec": {
   "display_name": "Python 3",
   "language": "python",
   "name": "python3"
  },
  "language_info": {
   "codemirror_mode": {
    "name": "ipython",
    "version": 3
   },
   "file_extension": ".py",
   "mimetype": "text/x-python",
   "name": "python",
   "nbconvert_exporter": "python",
   "pygments_lexer": "ipython3",
   "version": "3.8.3"
  }
 },
 "nbformat": 4,
 "nbformat_minor": 4
}
