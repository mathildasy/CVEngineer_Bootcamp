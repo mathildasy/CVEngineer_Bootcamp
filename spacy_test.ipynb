{
 "metadata": {
  "language_info": {
   "codemirror_mode": {
    "name": "ipython",
    "version": 3
   },
   "file_extension": ".py",
   "mimetype": "text/x-python",
   "name": "python",
   "nbconvert_exporter": "python",
   "pygments_lexer": "ipython3",
   "version": "3.7.10"
  },
  "orig_nbformat": 2,
  "kernelspec": {
   "name": "python3",
   "display_name": "Python 3.7.10 64-bit ('erg3020': conda)",
   "metadata": {
    "interpreter": {
     "hash": "06d5e3b026207dbffbfe101fb5b7dcadee0f432a3ebdd52592e0b754c4a414e5"
    }
   }
  }
 },
 "nbformat": 4,
 "nbformat_minor": 2,
 "cells": [
  {
   "cell_type": "code",
   "execution_count": 2,
   "metadata": {},
   "outputs": [],
   "source": [
    "import spacy\n",
    "import numpy as np\n",
    "​"
   ]
  },
  {
   "cell_type": "code",
   "execution_count": 3,
   "metadata": {},
   "outputs": [
    {
     "output_type": "stream",
     "name": "stdout",
     "text": [
      "Apple Apple PROPN NNP nsubj Xxxxx True False\nis be AUX VBZ aux xx True True\nlooking look VERB VBG ROOT xxxx True False\nat at ADP IN prep xx True True\nbuying buy VERB VBG pcomp xxxx True False\nU.K. U.K. PROPN NNP dobj X.X. False False\nstartup startup NOUN NN advcl xxxx True False\nfor for ADP IN prep xxx True True\n$ $ SYM $ quantmod $ False False\n1 1 NUM CD compound d False False\nbillion billion NUM CD pobj xxxx True False\n"
     ]
    }
   ],
   "source": [
    "nlp = spacy.load(\"en_core_web_sm\")\n",
    "doc = nlp(\"Apple is looking at buying U.K. startup for $1 billion\")\n",
    "for token in doc:\n",
    "    print(token.text, token.lemma_, token.pos_, token.tag_, token.dep_,\n",
    "            token.shape_, token.is_alpha, token.is_stop)\n",
    "\n",
    "\n"
   ]
  },
  {
   "cell_type": "code",
   "execution_count": 8,
   "metadata": {},
   "outputs": [],
   "source": [
    "with open('pride_and_prejudice.txt',encoding='utf-8', mode = 'r') as f:\n",
    "    full_txt = f.read().strip('\\n').replace(\"\\''\",\"'\")\n",
    "    # clean the unnecessary txt\n",
    "    full_txt = full_txt.replace('_','').replace('make by 拉米网（www.lami.fun）','') \n",
    "\n"
   ]
  },
  {
   "cell_type": "code",
   "execution_count": 6,
   "metadata": {},
   "outputs": [
    {
     "output_type": "execute_result",
     "data": {
      "text/plain": [
       "'utf-8'"
      ]
     },
     "metadata": {},
     "execution_count": 6
    }
   ],
   "source": []
  }
 ]
}